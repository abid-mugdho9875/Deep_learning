{
  "nbformat": 4,
  "nbformat_minor": 0,
  "metadata": {
    "colab": {
      "name": "Hand_digitclassification_cnn.ipynb",
      "provenance": [],
      "authorship_tag": "ABX9TyO9ooWOwr2lC0L3NJuEpzxZ",
      "include_colab_link": true
    },
    "kernelspec": {
      "name": "python3",
      "display_name": "Python 3"
    }
  },
  "cells": [
    {
      "cell_type": "markdown",
      "metadata": {
        "id": "view-in-github",
        "colab_type": "text"
      },
      "source": [
        "<a href=\"https://colab.research.google.com/github/abid-mugdho9875/Deep_learning/blob/main/Hand_digitclassification_cnn.ipynb\" target=\"_parent\"><img src=\"https://colab.research.google.com/assets/colab-badge.svg\" alt=\"Open In Colab\"/></a>"
      ]
    },
    {
      "cell_type": "markdown",
      "metadata": {
        "id": "wrw71LYoeM4p"
      },
      "source": [
        "# Handwritten digits classification using neural network\r\n",
        "In this notebook we will classify handwritten digits using a simple neural network which has only input and output layers. We will than add a hidden layer and see how the performance of the model improves"
      ]
    },
    {
      "cell_type": "code",
      "metadata": {
        "id": "jF0WQG2ieRpc"
      },
      "source": [
        "import tensorflow as tf\r\n",
        "from tensorflow import keras\r\n",
        "import matplotlib.pyplot as plt\r\n",
        "%matplotlib inline\r\n",
        "import numpy as np"
      ],
      "execution_count": 1,
      "outputs": []
    },
    {
      "cell_type": "code",
      "metadata": {
        "id": "YEwHhv3IeYQM"
      },
      "source": [
        "(X_train, y_train) , (X_test, y_test) = keras.datasets.mnist.load_data()"
      ],
      "execution_count": 2,
      "outputs": []
    },
    {
      "cell_type": "code",
      "metadata": {
        "colab": {
          "base_uri": "https://localhost:8080/"
        },
        "id": "culaXZmiefx_",
        "outputId": "95218f21-ba44-4574-98cf-842e358d927d"
      },
      "source": [
        "X_train.shape"
      ],
      "execution_count": 3,
      "outputs": [
        {
          "output_type": "execute_result",
          "data": {
            "text/plain": [
              "(60000, 28, 28)"
            ]
          },
          "metadata": {
            "tags": []
          },
          "execution_count": 3
        }
      ]
    },
    {
      "cell_type": "code",
      "metadata": {
        "colab": {
          "base_uri": "https://localhost:8080/"
        },
        "id": "J6ZP8lkaejSp",
        "outputId": "ae67af3f-8408-4d71-857e-da099bdfe813"
      },
      "source": [
        "y_train.shape"
      ],
      "execution_count": 4,
      "outputs": [
        {
          "output_type": "execute_result",
          "data": {
            "text/plain": [
              "(60000,)"
            ]
          },
          "metadata": {
            "tags": []
          },
          "execution_count": 4
        }
      ]
    },
    {
      "cell_type": "code",
      "metadata": {
        "colab": {
          "base_uri": "https://localhost:8080/"
        },
        "id": "znFy8jGKenzI",
        "outputId": "013de81a-64f9-4d04-ad7a-9262450ab7ba"
      },
      "source": [
        "y_train[:5]"
      ],
      "execution_count": 5,
      "outputs": [
        {
          "output_type": "execute_result",
          "data": {
            "text/plain": [
              "array([5, 0, 4, 1, 9], dtype=uint8)"
            ]
          },
          "metadata": {
            "tags": []
          },
          "execution_count": 5
        }
      ]
    },
    {
      "cell_type": "code",
      "metadata": {
        "id": "-j1em-czew-b"
      },
      "source": [
        "\r\n",
        "X_train = X_train / 255\r\n",
        "X_test = X_test / 255"
      ],
      "execution_count": 6,
      "outputs": []
    },
    {
      "cell_type": "markdown",
      "metadata": {
        "id": "ruKR9c9YfD2V"
      },
      "source": [
        "Using ANN at first in this dataset"
      ]
    },
    {
      "cell_type": "code",
      "metadata": {
        "colab": {
          "base_uri": "https://localhost:8080/"
        },
        "id": "N0p19QaqfI88",
        "outputId": "f68d72c8-65d3-4cc1-99bc-eb92bfcce830"
      },
      "source": [
        "ann = keras.Sequential([\r\n",
        "    keras.layers.Flatten(input_shape=(28, 28)),\r\n",
        "    keras.layers.Dense(100, activation='relu'),\r\n",
        "    keras.layers.Dense(10, activation='sigmoid')\r\n",
        "])\r\n",
        "\r\n",
        "ann.compile(optimizer='adam',\r\n",
        "              loss='sparse_categorical_crossentropy',\r\n",
        "              metrics=['accuracy'])\r\n",
        "\r\n",
        "ann.fit(X_train, y_train, epochs=10)"
      ],
      "execution_count": 7,
      "outputs": [
        {
          "output_type": "stream",
          "text": [
            "Epoch 1/10\n",
            "1875/1875 [==============================] - 4s 2ms/step - loss: 0.4535 - accuracy: 0.8712\n",
            "Epoch 2/10\n",
            "1875/1875 [==============================] - 4s 2ms/step - loss: 0.1278 - accuracy: 0.9629\n",
            "Epoch 3/10\n",
            "1875/1875 [==============================] - 4s 2ms/step - loss: 0.0832 - accuracy: 0.9762\n",
            "Epoch 4/10\n",
            "1875/1875 [==============================] - 4s 2ms/step - loss: 0.0599 - accuracy: 0.9827\n",
            "Epoch 5/10\n",
            "1875/1875 [==============================] - 4s 2ms/step - loss: 0.0497 - accuracy: 0.9843\n",
            "Epoch 6/10\n",
            "1875/1875 [==============================] - 4s 2ms/step - loss: 0.0393 - accuracy: 0.9878\n",
            "Epoch 7/10\n",
            "1875/1875 [==============================] - 3s 2ms/step - loss: 0.0284 - accuracy: 0.9917\n",
            "Epoch 8/10\n",
            "1875/1875 [==============================] - 4s 2ms/step - loss: 0.0236 - accuracy: 0.9932\n",
            "Epoch 9/10\n",
            "1875/1875 [==============================] - 3s 2ms/step - loss: 0.0198 - accuracy: 0.9938\n",
            "Epoch 10/10\n",
            "1875/1875 [==============================] - 3s 2ms/step - loss: 0.0163 - accuracy: 0.9953\n"
          ],
          "name": "stdout"
        },
        {
          "output_type": "execute_result",
          "data": {
            "text/plain": [
              "<tensorflow.python.keras.callbacks.History at 0x7f61da0a9470>"
            ]
          },
          "metadata": {
            "tags": []
          },
          "execution_count": 7
        }
      ]
    },
    {
      "cell_type": "markdown",
      "metadata": {
        "id": "oW5aNZCpfqno"
      },
      "source": [
        "We got nearly 99.5% uaing ANN in handdigit classification.Now we evaluate the model"
      ]
    },
    {
      "cell_type": "code",
      "metadata": {
        "colab": {
          "base_uri": "https://localhost:8080/"
        },
        "id": "bgSyZUKUf4Ls",
        "outputId": "d595f227-a5de-4b39-f99f-f8297a7f0109"
      },
      "source": [
        "ann.evaluate(X_test,y_test)"
      ],
      "execution_count": 8,
      "outputs": [
        {
          "output_type": "stream",
          "text": [
            "313/313 [==============================] - 0s 1ms/step - loss: 0.0799 - accuracy: 0.9776\n"
          ],
          "name": "stdout"
        },
        {
          "output_type": "execute_result",
          "data": {
            "text/plain": [
              "[0.07992140203714371, 0.9775999784469604]"
            ]
          },
          "metadata": {
            "tags": []
          },
          "execution_count": 8
        }
      ]
    },
    {
      "cell_type": "markdown",
      "metadata": {
        "id": "JDL2ogisf7jA"
      },
      "source": [
        "In test it gives nearly 98% accuracy."
      ]
    },
    {
      "cell_type": "code",
      "metadata": {
        "colab": {
          "base_uri": "https://localhost:8080/"
        },
        "id": "MkY_K0xYgMCH",
        "outputId": "54998ccb-6ab7-40fe-8369-2f039ca9d00a"
      },
      "source": [
        "from sklearn.metrics import confusion_matrix,classification_report\r\n",
        "y_pred=ann.predict(X_test)\r\n",
        "y_pred_class=[np.argmax(element) for element in y_pred]\r\n",
        "print(\"Classification Report:\\n\",classification_report(y_test,y_pred_class))"
      ],
      "execution_count": 9,
      "outputs": [
        {
          "output_type": "stream",
          "text": [
            "Classification Report:\n",
            "               precision    recall  f1-score   support\n",
            "\n",
            "           0       0.98      0.99      0.99       980\n",
            "           1       0.98      0.99      0.99      1135\n",
            "           2       0.97      0.98      0.98      1032\n",
            "           3       0.97      0.98      0.98      1010\n",
            "           4       0.97      0.98      0.98       982\n",
            "           5       0.99      0.96      0.97       892\n",
            "           6       0.98      0.98      0.98       958\n",
            "           7       0.96      0.98      0.97      1028\n",
            "           8       0.98      0.97      0.97       974\n",
            "           9       0.99      0.95      0.97      1009\n",
            "\n",
            "    accuracy                           0.98     10000\n",
            "   macro avg       0.98      0.98      0.98     10000\n",
            "weighted avg       0.98      0.98      0.98     10000\n",
            "\n"
          ],
          "name": "stdout"
        }
      ]
    },
    {
      "cell_type": "markdown",
      "metadata": {
        "id": "0GOeUnSdg40e"
      },
      "source": [
        "# Using CNN for digit classification"
      ]
    },
    {
      "cell_type": "code",
      "metadata": {
        "id": "wIJ3eAptg9tE"
      },
      "source": [
        "from tensorflow.keras import datasets,layers,models\r\n",
        "cnn=models.Sequential([\r\n",
        "    layers.Conv1D(filters=32,kernel_size=(3,),activation='relu',input_shape=(28,28)),\r\n",
        "    layers.MaxPooling1D((2,)),\r\n",
        "\r\n",
        "    layers.Conv1D(filters=64,kernel_size=(3,),activation='relu'),\r\n",
        "    layers.MaxPooling1D((2,)),\r\n",
        "\r\n",
        "    layers.Flatten(),\r\n",
        "    layers.Dense(64,activation='relu'),\r\n",
        "    layers.Dense(10,activation='sigmoid')\r\n",
        "])\r\n"
      ],
      "execution_count": 41,
      "outputs": []
    },
    {
      "cell_type": "code",
      "metadata": {
        "id": "xomKlC6ohIvx"
      },
      "source": [
        "cnn.compile(\r\n",
        "    optimizer='adam',\r\n",
        "    loss='sparse_categorical_crossentropy',\r\n",
        "    metrics=['accuracy']    \r\n",
        ")"
      ],
      "execution_count": 42,
      "outputs": []
    },
    {
      "cell_type": "code",
      "metadata": {
        "colab": {
          "base_uri": "https://localhost:8080/"
        },
        "id": "M3xeILj1hRDQ",
        "outputId": "e4e34492-27d0-4521-be3b-95171ba8ca7f"
      },
      "source": [
        "cnn.fit(X_train,y_train,epochs=7)"
      ],
      "execution_count": 43,
      "outputs": [
        {
          "output_type": "stream",
          "text": [
            "Epoch 1/7\n",
            "1875/1875 [==============================] - 8s 4ms/step - loss: 0.4524 - accuracy: 0.8664\n",
            "Epoch 2/7\n",
            "1875/1875 [==============================] - 8s 4ms/step - loss: 0.0872 - accuracy: 0.9735\n",
            "Epoch 3/7\n",
            "1875/1875 [==============================] - 8s 4ms/step - loss: 0.0575 - accuracy: 0.9815\n",
            "Epoch 4/7\n",
            "1875/1875 [==============================] - 8s 4ms/step - loss: 0.0441 - accuracy: 0.9859\n",
            "Epoch 5/7\n",
            "1875/1875 [==============================] - 8s 4ms/step - loss: 0.0378 - accuracy: 0.9878\n",
            "Epoch 6/7\n",
            "1875/1875 [==============================] - 9s 5ms/step - loss: 0.0308 - accuracy: 0.9896\n",
            "Epoch 7/7\n",
            "1875/1875 [==============================] - 9s 5ms/step - loss: 0.0247 - accuracy: 0.9921\n"
          ],
          "name": "stdout"
        },
        {
          "output_type": "execute_result",
          "data": {
            "text/plain": [
              "<tensorflow.python.keras.callbacks.History at 0x7f61ca2b46a0>"
            ]
          },
          "metadata": {
            "tags": []
          },
          "execution_count": 43
        }
      ]
    },
    {
      "cell_type": "code",
      "metadata": {
        "colab": {
          "base_uri": "https://localhost:8080/"
        },
        "id": "lgsGPw9BhWv-",
        "outputId": "12ac3f9d-f7d4-44bb-c4f8-d63fc23eeca8"
      },
      "source": [
        "cnn.evaluate(X_test,y_test)"
      ],
      "execution_count": 44,
      "outputs": [
        {
          "output_type": "stream",
          "text": [
            "313/313 [==============================] - 1s 2ms/step - loss: 0.0416 - accuracy: 0.9878\n"
          ],
          "name": "stdout"
        },
        {
          "output_type": "execute_result",
          "data": {
            "text/plain": [
              "[0.04156752675771713, 0.9878000020980835]"
            ]
          },
          "metadata": {
            "tags": []
          },
          "execution_count": 44
        }
      ]
    },
    {
      "cell_type": "code",
      "metadata": {
        "colab": {
          "base_uri": "https://localhost:8080/"
        },
        "id": "JG5s0-qbhXvt",
        "outputId": "8a8e3ce6-5f99-4827-d45c-41874ba85126"
      },
      "source": [
        "y_pred=cnn.predict(X_test)\r\n",
        "y_pred_class=[np.argmax(element) for element in y_pred]\r\n",
        "print(\"Classification Report:\\n\",classification_report(y_test,y_pred_class))"
      ],
      "execution_count": 45,
      "outputs": [
        {
          "output_type": "stream",
          "text": [
            "Classification Report:\n",
            "               precision    recall  f1-score   support\n",
            "\n",
            "           0       0.99      0.99      0.99       980\n",
            "           1       0.99      0.99      0.99      1135\n",
            "           2       0.99      0.98      0.98      1032\n",
            "           3       0.98      0.99      0.98      1010\n",
            "           4       0.99      0.99      0.99       982\n",
            "           5       0.98      0.99      0.99       892\n",
            "           6       0.99      0.99      0.99       958\n",
            "           7       0.98      0.99      0.98      1028\n",
            "           8       1.00      0.98      0.99       974\n",
            "           9       0.99      0.98      0.98      1009\n",
            "\n",
            "    accuracy                           0.99     10000\n",
            "   macro avg       0.99      0.99      0.99     10000\n",
            "weighted avg       0.99      0.99      0.99     10000\n",
            "\n"
          ],
          "name": "stdout"
        }
      ]
    },
    {
      "cell_type": "markdown",
      "metadata": {
        "id": "mTa66rQFoSKN"
      },
      "source": [
        "ANN & CNN accuracy value is neraly same for Hand digit Classification."
      ]
    }
  ]
}